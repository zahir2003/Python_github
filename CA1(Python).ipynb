{
  "nbformat": 4,
  "nbformat_minor": 0,
  "metadata": {
    "colab": {
      "provenance": [],
      "authorship_tag": "ABX9TyMBTUo9jdwQ0HmqxX6MXR13",
      "include_colab_link": true
    },
    "kernelspec": {
      "name": "python3",
      "display_name": "Python 3"
    },
    "language_info": {
      "name": "python"
    }
  },
  "cells": [
    {
      "cell_type": "markdown",
      "metadata": {
        "id": "view-in-github",
        "colab_type": "text"
      },
      "source": [
        "<a href=\"https://colab.research.google.com/github/zahir2003/Python_github/blob/main/CA1(Python).ipynb\" target=\"_parent\"><img src=\"https://colab.research.google.com/assets/colab-badge.svg\" alt=\"Open In Colab\"/></a>"
      ]
    },
    {
      "cell_type": "markdown",
      "source": [
        " 1.\tWrite a program in Python to find the addition & average of three float numbers."
      ],
      "metadata": {
        "id": "E-gYV9Raj4UR"
      }
    },
    {
      "cell_type": "code",
      "execution_count": null,
      "metadata": {
        "colab": {
          "base_uri": "https://localhost:8080/"
        },
        "id": "dM5Lyvk_juvX",
        "outputId": "2024a719-a558-4b35-93ae-9234687fc395"
      },
      "outputs": [
        {
          "output_type": "stream",
          "name": "stdout",
          "text": [
            "Enter first number : 45\n",
            "Enter second number : 67\n",
            "Enter third number : 34\n",
            "The sum is :  146.0\n",
            "The average is :  48.666666666666664\n"
          ]
        }
      ],
      "source": [
        "a = float(input(\"Enter first number : \"))\n",
        "b = float(input(\"Enter second number : \"))\n",
        "c = float(input(\"Enter third number : \"))\n",
        "sum = (a+b+c)\n",
        "avg = (sum/3)\n",
        "print(\"The sum is : \",sum)\n",
        "print(\"The average is : \",avg)"
      ]
    },
    {
      "cell_type": "markdown",
      "source": [
        "2.\tWrite a program in Python to find the volume of a sphere with radius  6cm."
      ],
      "metadata": {
        "id": "aAql8jhHmxHh"
      }
    },
    {
      "cell_type": "code",
      "source": [
        "r = 6\n",
        "pi = 3.14\n",
        "volume = (4/3)*pi*(r**3)\n",
        "print(\"The volume of sphere is : \",volume)"
      ],
      "metadata": {
        "colab": {
          "base_uri": "https://localhost:8080/"
        },
        "id": "kpUcfjeXmwTk",
        "outputId": "2f4fc5eb-2845-4ec7-999c-8dd2d594ee5e"
      },
      "execution_count": null,
      "outputs": [
        {
          "output_type": "stream",
          "name": "stdout",
          "text": [
            "The volume of sphere is :  904.3199999999999\n"
          ]
        }
      ]
    },
    {
      "cell_type": "markdown",
      "source": [
        "3.\tWrite a program in Python to find the area of a circle.\n"
      ],
      "metadata": {
        "id": "rYoBnrbUnrt2"
      }
    },
    {
      "cell_type": "code",
      "source": [
        "r = float(input(\"Enter the radius : \"))\n",
        "pi = 3.14\n",
        "area = pi*(r**2)\n",
        "print(\"The area of circle is : \",area)"
      ],
      "metadata": {
        "colab": {
          "base_uri": "https://localhost:8080/"
        },
        "id": "V57EQD15npyz",
        "outputId": "67515ffd-6351-4020-d4e5-a12576d94ea3"
      },
      "execution_count": null,
      "outputs": [
        {
          "output_type": "stream",
          "name": "stdout",
          "text": [
            "Enter the radius : 34\n",
            "The area of circle is :  3629.84\n"
          ]
        }
      ]
    },
    {
      "cell_type": "markdown",
      "source": [
        "4.\tWrite a program in Python to compute simple Interest."
      ],
      "metadata": {
        "id": "On7ZoqLcn_9H"
      }
    },
    {
      "cell_type": "code",
      "source": [
        "p = float(input(\"Enter the principal amount : \"))\n",
        "r = float(input(\"Enter the rate of interest : \"))\n",
        "t = float(input(\"Enter the time : \"))\n",
        "si = (p*r*t)/100\n",
        "print(\"The simple interest is : \",si)"
      ],
      "metadata": {
        "colab": {
          "base_uri": "https://localhost:8080/"
        },
        "id": "cHHAw2jZn-6v",
        "outputId": "af016d92-a16e-47ec-805c-8da5cb345db6"
      },
      "execution_count": null,
      "outputs": [
        {
          "output_type": "stream",
          "name": "stdout",
          "text": [
            "Enter the principal amount : 56\n",
            "Enter the rate of interest : 10.65\n",
            "Enter the time : 4\n",
            "The simple interest is :  23.855999999999998\n"
          ]
        }
      ]
    },
    {
      "cell_type": "markdown",
      "source": [
        "5.\tWrite a program in Python to swap two numbers without using third variable"
      ],
      "metadata": {
        "id": "vqIjwaeBodIb"
      }
    },
    {
      "cell_type": "code",
      "source": [
        "a = float(input(\"Enter the first number : \"))\n",
        "b = float(input(\"Enter the second number : \"))\n",
        "a = a+b\n",
        "b = a-b\n",
        "a = a-b\n",
        "print(\"The first number is : \",a)\n",
        "print(\"The second number is : \",b)"
      ],
      "metadata": {
        "colab": {
          "base_uri": "https://localhost:8080/"
        },
        "id": "grIXBC6GocTE",
        "outputId": "83a43caf-1a12-4936-e04d-47b0fbd74269"
      },
      "execution_count": null,
      "outputs": [
        {
          "output_type": "stream",
          "name": "stdout",
          "text": [
            "Enter the first number : 78\n",
            "Enter the second number : 83\n",
            "The first number is :  83.0\n",
            "The second number is :  78.0\n"
          ]
        }
      ]
    },
    {
      "cell_type": "markdown",
      "source": [
        "6.\tWrite a program in Python to convert any temperature from Celcius to Fahrenheit."
      ],
      "metadata": {
        "id": "1cNjoTArpPWG"
      }
    },
    {
      "cell_type": "code",
      "source": [
        "c = float(input(\"Enter the temperature in celcius : \"))\n",
        "f = (c*(9/5))+32\n",
        "print(\"The temperature in fahrenheit is : \",f)"
      ],
      "metadata": {
        "colab": {
          "base_uri": "https://localhost:8080/"
        },
        "id": "EIlTrmZ9pOjG",
        "outputId": "8c625b54-f943-402a-fca1-297b38ea3680"
      },
      "execution_count": null,
      "outputs": [
        {
          "output_type": "stream",
          "name": "stdout",
          "text": [
            "Enter the temperature in celcius : 78\n",
            "The temperature in fahrenheit is :  172.4\n"
          ]
        }
      ]
    },
    {
      "cell_type": "markdown",
      "source": [
        "7.\tWrite a program in Python to convert a given number of days into days, month, year and week."
      ],
      "metadata": {
        "id": "TyaQn46jpiHt"
      }
    },
    {
      "cell_type": "code",
      "source": [
        "d = int(input(\"Enter the number of days : \"))\n",
        "y = d//365\n",
        "m = (d%365)//30\n",
        "w = ((d%365)%30)//7\n",
        "print(\"The number of years is : \",y)\n",
        "print(\"The number of months is : \",m)\n",
        "print(\"The number of weeks is : \",w)"
      ],
      "metadata": {
        "colab": {
          "base_uri": "https://localhost:8080/"
        },
        "id": "a6cdkfMWphGo",
        "outputId": "3fe3f730-697e-47d3-b5f8-5515abb2ada7"
      },
      "execution_count": null,
      "outputs": [
        {
          "output_type": "stream",
          "name": "stdout",
          "text": [
            "Enter the number of days : 892\n",
            "The number of years is :  2\n",
            "The number of months is :  5\n",
            "The number of weeks is :  1\n"
          ]
        }
      ]
    },
    {
      "cell_type": "markdown",
      "source": [
        "8.\tWrite a Python Program to find the gravitational force acting between two objects.\n",
        "[G=N*(m1*m2)/d^2]\n"
      ],
      "metadata": {
        "id": "3dorG-u3qLro"
      }
    },
    {
      "cell_type": "code",
      "source": [
        "n = float(input(\"Enter the value of n : \"))\n",
        "m1 = float(input(\"Enter the value of m1 : \"))\n",
        "m2 = float(input(\"Enter the value of m2 : \"))\n",
        "d = float(input(\"Enter the value of d : \"))\n",
        "g = (n*m1*m2)/(d**2)\n",
        "print(\"The gravitational force is : \",g)"
      ],
      "metadata": {
        "colab": {
          "base_uri": "https://localhost:8080/"
        },
        "id": "4y8S56bIqH98",
        "outputId": "e2b5998b-305a-4a66-f2da-8fddfd7912e4"
      },
      "execution_count": null,
      "outputs": [
        {
          "output_type": "stream",
          "name": "stdout",
          "text": [
            "Enter the value of n : 758\n",
            "Enter the value of m1 : 34\n",
            "Enter the value of m2 : 45\n",
            "Enter the value of d : 831\n",
            "The gravitational force is :  1.6794171695186957\n"
          ]
        }
      ]
    },
    {
      "cell_type": "markdown",
      "source": [
        "9.\tWrite a program in Python to find given no is Even or Odd."
      ],
      "metadata": {
        "id": "AEEFj01QrFja"
      }
    },
    {
      "cell_type": "code",
      "source": [
        "n = int(input(\"Enter a number : \"))\n",
        "if n%2==0:\n",
        "    print(\"The number is even\")\n",
        "else:\n",
        "    print(\"The number is odd\")"
      ],
      "metadata": {
        "colab": {
          "base_uri": "https://localhost:8080/"
        },
        "id": "njqDEvzXrEis",
        "outputId": "0eee3951-4676-4e7d-8463-4b0af2b9c491"
      },
      "execution_count": null,
      "outputs": [
        {
          "output_type": "stream",
          "name": "stdout",
          "text": [
            "Enter a number : 13\n",
            "The number is odd\n"
          ]
        }
      ]
    },
    {
      "cell_type": "markdown",
      "source": [
        "10.\tTake input from user if it is greater than 15 print two times of difference if it’s less than 15 print four times of difference."
      ],
      "metadata": {
        "id": "aC_Aqn68rv83"
      }
    },
    {
      "cell_type": "code",
      "source": [
        "n = int(input(\"Enter a number : \"))\n",
        "if n>15:\n",
        "    print((n-15)*2)\n",
        "else:\n",
        "    print((n-15)*4)"
      ],
      "metadata": {
        "colab": {
          "base_uri": "https://localhost:8080/"
        },
        "id": "wDiccz4nrsXv",
        "outputId": "e90989fe-b4e2-4757-87d1-c74377c5b29a"
      },
      "execution_count": null,
      "outputs": [
        {
          "output_type": "stream",
          "name": "stdout",
          "text": [
            "Enter a number : 23\n",
            "16\n"
          ]
        }
      ]
    },
    {
      "cell_type": "markdown",
      "source": [
        "11.\tWrite a program in Python to find largest among three numbers."
      ],
      "metadata": {
        "id": "JZPiCyhlsRdp"
      }
    },
    {
      "cell_type": "code",
      "source": [
        "a = int(input(\"Enter first number : \"))\n",
        "b = int(input(\"Enter second number : \"))\n",
        "c = int(input(\"Enter third number : \"))\n",
        "if a>b and a>c:\n",
        "    print(\"The largest number is : \",a)\n",
        "elif b>a and b>c:\n",
        "    print(\"The largest number is : \",b)\n",
        "else:\n",
        "    print(\"The largest number is : \",c)"
      ],
      "metadata": {
        "colab": {
          "base_uri": "https://localhost:8080/"
        },
        "id": "vR6iD0OtsKp4",
        "outputId": "a9d04633-5aed-4840-87ec-10a966005b3b"
      },
      "execution_count": null,
      "outputs": [
        {
          "output_type": "stream",
          "name": "stdout",
          "text": [
            "Enter first number : 45\n",
            "Enter second number : 78\n",
            "Enter third number : 23\n",
            "The largest number is :  78\n"
          ]
        }
      ]
    },
    {
      "cell_type": "markdown",
      "source": [
        "12.\tWrite a program in Python to check a triangle is equilateral,scalene or isosclees.."
      ],
      "metadata": {
        "id": "k9r2k2bktYzD"
      }
    },
    {
      "source": [
        "a = int(input(\"Enter the length of the first side: \"))\n",
        "b = int(input(\"Enter the length of the second side: \"))\n",
        "c = int(input(\"Enter the length of the third side: \"))\n",
        "\n",
        "if a == b == c:\n",
        "    print(\"The triangle is equilateral\")\n",
        "elif a==b or a==c or b==c:\n",
        "    print(\"The triangle is isosceles\")\n",
        "else:\n",
        "    print(\"The triangle is scalene\")"
      ],
      "cell_type": "code",
      "metadata": {
        "colab": {
          "base_uri": "https://localhost:8080/"
        },
        "id": "aDb9A6wZvXhj",
        "outputId": "ced3c468-db1f-431c-df40-141eb2c81625"
      },
      "execution_count": null,
      "outputs": [
        {
          "output_type": "stream",
          "name": "stdout",
          "text": [
            "Enter the length of the first side: 78\n",
            "Enter the length of the second side: 34\n",
            "Enter the length of the third side: 56\n",
            "The triangle is scalene\n"
          ]
        }
      ]
    },
    {
      "cell_type": "markdown",
      "source": [
        "13.\tWrite a program in Python to check a given year is leapyear or not."
      ],
      "metadata": {
        "id": "eERS6jQLviCJ"
      }
    },
    {
      "source": [
        "year = int(input(\"Enter a year: \"))\n",
        "if (year % 4 == 0 and year % 100 != 0) or year % 400 == 0:\n",
        "    print(year, \"is a leap year\")\n",
        "else:\n",
        "    print(year, \"is not a leap year\")"
      ],
      "cell_type": "code",
      "metadata": {
        "colab": {
          "base_uri": "https://localhost:8080/"
        },
        "id": "TFBykIziv032",
        "outputId": "dc3eb412-1ae6-4beb-91b0-dfcb24bc409d"
      },
      "execution_count": null,
      "outputs": [
        {
          "output_type": "stream",
          "name": "stdout",
          "text": [
            "Enter a year: 2003\n",
            "2003 is not a leap year\n"
          ]
        }
      ]
    },
    {
      "cell_type": "markdown",
      "source": [
        "14.\tTake marks of a student of four different subject find average depending on average find Grade(if marks >=75 i.e,’A’ or >=60 but <=75 i.e,’B’ or >=40 but <=60 i.e,’C’ or <=40 i.e,’D’)."
      ],
      "metadata": {
        "id": "3tjMB36XwFqn"
      }
    },
    {
      "source": [
        "sub1 = float(input(\"Enter marks of subject 1: \"))\n",
        "sub2 = float(input(\"Enter marks of subject 2: \"))\n",
        "sub3 = float(input(\"Enter marks of subject 3: \"))\n",
        "sub4 = float(input(\"Enter marks of subject 4: \"))\n",
        "\n",
        "average = (sub1 + sub2 + sub3 + sub4) / 4\n",
        "if average >= 75:\n",
        "    grade = 'A'\n",
        "elif average >= 60:\n",
        "    grade = 'B'\n",
        "elif average >= 40:\n",
        "    grade = 'C'\n",
        "else:\n",
        "    grade = 'D'\n",
        "\n",
        "print(\"Average marks:\", average)\n",
        "print(\"Grade:\", grade)"
      ],
      "cell_type": "code",
      "metadata": {
        "colab": {
          "base_uri": "https://localhost:8080/"
        },
        "id": "YjAu9_YwwPnH",
        "outputId": "9ffff872-ceb2-4daa-9781-7c7f013309b4"
      },
      "execution_count": null,
      "outputs": [
        {
          "output_type": "stream",
          "name": "stdout",
          "text": [
            "Enter marks of subject 1: 78\n",
            "Enter marks of subject 2: 89\n",
            "Enter marks of subject 3: 78\n",
            "Enter marks of subject 4: 91\n",
            "Average marks: 84.0\n",
            "Grade: A\n"
          ]
        }
      ]
    },
    {
      "cell_type": "markdown",
      "source": [
        "15.\tWrite a program in Python to implement a simple calculator"
      ],
      "metadata": {
        "id": "6jdtqdU6weQb"
      }
    },
    {
      "source": [
        "def add(x, y):\n",
        "    return x + y\n",
        "\n",
        "def subtract(x, y):\n",
        "    return x - y\n",
        "\n",
        "def multiply(x, y):\n",
        "    return x * y\n",
        "\n",
        "def divide(x, y):\n",
        "    if y == 0:\n",
        "        return \"Division by zero!\"\n",
        "    else:\n",
        "        return x / y\n",
        "\n",
        "print(\"Select operation:\")\n",
        "print(\"1. Add\")\n",
        "print(\"2. Subtract\")\n",
        "print(\"3. Multiply\")\n",
        "print(\"4. Divide\")\n",
        "\n",
        "choice = input(\"Enter choice(1/2/3/4): \")\n",
        "\n",
        "num1 = float(input(\"Enter first number: \"))\n",
        "num2 = float(input(\"Enter second number: \"))\n",
        "\n",
        "if choice == '1':\n",
        "    print(num1, \"+\", num2, \"=\", add(num1, num2))\n",
        "elif choice == '2':\n",
        "    print(num1, \"-\", num2, \"=\", subtract(num1, num2))\n",
        "elif choice == '3':\n",
        "    print(num1, \"*\", num2, \"=\", multiply(num1, num2))\n",
        "elif choice == '4':\n",
        "    print(num1, \"/\", num2, \"=\", divide(num1, num2))"
      ],
      "cell_type": "code",
      "metadata": {
        "colab": {
          "base_uri": "https://localhost:8080/"
        },
        "id": "5nUHl4_lwn0T",
        "outputId": "98fefd37-97bb-4dc6-9bd0-73ae8a0a3d40"
      },
      "execution_count": null,
      "outputs": [
        {
          "output_type": "stream",
          "name": "stdout",
          "text": [
            "Select operation:\n",
            "1. Add\n",
            "2. Subtract\n",
            "3. Multiply\n",
            "4. Divide\n",
            "Enter choice(1/2/3/4): 3\n",
            "Enter first number: 67\n",
            "Enter second number: 5\n",
            "67.0 * 5.0 = 335.0\n"
          ]
        }
      ]
    },
    {
      "cell_type": "markdown",
      "source": [
        "16.\tWrite a program in Python to find the roots of Quadratic equation."
      ],
      "metadata": {
        "id": "Sb39HqzqxIUW"
      }
    },
    {
      "source": [
        "import cmath\n",
        "\n",
        "a = float(input(\"Enter coefficient a: \"))\n",
        "b = float(input(\"Enter coefficient b: \"))\n",
        "c = float(input(\"Enter coefficient c: \"))\n",
        "\n",
        "delta = (b**2) - 4*(a*c)\n",
        "\n",
        "sol1 = (-b - cmath.sqrt(delta)) / (2*a)\n",
        "sol2 = (-b + cmath.sqrt(delta)) / (2*a)\n",
        "\n",
        "print('The roots are {0} and {1}'.format(sol1,sol2))"
      ],
      "cell_type": "code",
      "metadata": {
        "colab": {
          "base_uri": "https://localhost:8080/"
        },
        "id": "7WqvJffWxfX0",
        "outputId": "ae4020ae-cb44-4968-b54c-01ffbbb0a75f"
      },
      "execution_count": null,
      "outputs": [
        {
          "output_type": "stream",
          "name": "stdout",
          "text": [
            "Enter coefficient a: 78\n",
            "Enter coefficient b: 36\n",
            "Enter coefficient c: 89\n",
            "The roots are (-0.23076923076923078-1.0429627045852687j) and (-0.23076923076923078+1.0429627045852687j)\n"
          ]
        }
      ]
    },
    {
      "cell_type": "markdown",
      "source": [
        "17.\tWrite a program in Python to print 1 to n."
      ],
      "metadata": {
        "id": "6W0dfKK1yQP1"
      }
    },
    {
      "source": [
        "n = int(input(\"Enter the value of n: \"))\n",
        "\n",
        "for i in range(1, n + 1):\n",
        "    print(i)"
      ],
      "cell_type": "code",
      "metadata": {
        "colab": {
          "base_uri": "https://localhost:8080/"
        },
        "id": "OGeQaem-ydBe",
        "outputId": "fc87f8f7-3ea7-4ba4-f62d-683e2e550077"
      },
      "execution_count": null,
      "outputs": [
        {
          "output_type": "stream",
          "name": "stdout",
          "text": [
            "Enter the value of n: 12\n",
            "1\n",
            "2\n",
            "3\n",
            "4\n",
            "5\n",
            "6\n",
            "7\n",
            "8\n",
            "9\n",
            "10\n",
            "11\n",
            "12\n"
          ]
        }
      ]
    },
    {
      "cell_type": "markdown",
      "source": [
        "18.\tWrite a program in Python to print sum of natural number."
      ],
      "metadata": {
        "id": "rBwaAi65yhqN"
      }
    },
    {
      "source": [
        "n = int(input(\"Enter a positive integer: \"))\n",
        "\n",
        "if n <= 0:\n",
        "    print(\"Please enter a positive integer.\")\n",
        "else:\n",
        "    sum = n * (n + 1) // 2\n",
        "    print(\"The sum of natural numbers up to\", n, \"is\", sum)"
      ],
      "cell_type": "code",
      "metadata": {
        "colab": {
          "base_uri": "https://localhost:8080/"
        },
        "id": "EcRpaqhGyp7m",
        "outputId": "3b874f4d-38f1-49df-b9d2-518112d15786"
      },
      "execution_count": null,
      "outputs": [
        {
          "output_type": "stream",
          "name": "stdout",
          "text": [
            "Enter a positive integer: 15\n",
            "The sum of natural numbers up to 15 is 120\n"
          ]
        }
      ]
    },
    {
      "cell_type": "markdown",
      "source": [
        "19.\tWrite a program in Python to print Sum of Digit."
      ],
      "metadata": {
        "id": "ZefXWjiXy70A"
      }
    },
    {
      "source": [
        "num = int(input(\"Enter a number: \"))\n",
        "sum = 0\n",
        "\n",
        "while num > 0:\n",
        "    digit = num % 10\n",
        "    sum += digit\n",
        "    num //= 10\n",
        "\n",
        "print(\"The sum of digits is:\", sum)"
      ],
      "cell_type": "code",
      "metadata": {
        "colab": {
          "base_uri": "https://localhost:8080/"
        },
        "id": "DKRGl8jlzALk",
        "outputId": "cd8a961a-8187-462c-adbf-788235c984fe"
      },
      "execution_count": null,
      "outputs": [
        {
          "output_type": "stream",
          "name": "stdout",
          "text": [
            "Enter a number: 11\n",
            "The sum of digits is: 2\n"
          ]
        }
      ]
    },
    {
      "cell_type": "markdown",
      "source": [
        "20.\tWrite a program in Python to print Factors of a Number."
      ],
      "metadata": {
        "id": "_1n774m9z1Al"
      }
    },
    {
      "cell_type": "code",
      "source": [
        "def print_factors(number):\n",
        "    print(f\"Factors of {number}:\")\n",
        "    for i in range(1, number + 1):\n",
        "        if number % i == 0:\n",
        "            print(i)\n",
        "\n",
        "number = int(input(\"Enter a number: \"))\n",
        "print_factors(number)\n"
      ],
      "metadata": {
        "colab": {
          "base_uri": "https://localhost:8080/"
        },
        "id": "Igxqls9F0EoK",
        "outputId": "7c00b497-0cf7-45c3-8882-39e6ede7c109"
      },
      "execution_count": null,
      "outputs": [
        {
          "output_type": "stream",
          "name": "stdout",
          "text": [
            "Enter a number: 10\n",
            "Factors of 10:\n",
            "1\n",
            "2\n",
            "5\n",
            "10\n"
          ]
        }
      ]
    },
    {
      "cell_type": "markdown",
      "source": [
        "21.\tWrite a program in Python to print Reverse of a Number."
      ],
      "metadata": {
        "id": "-Qxq8Onw01-V"
      }
    },
    {
      "cell_type": "code",
      "source": [
        "def reverse_number(number):\n",
        "    reversed_number = int(str(number)[::-1])\n",
        "    return reversed_number\n",
        "\n",
        "number = int(input(\"Enter a number: \"))\n",
        "reversed_number = reverse_number(number)\n",
        "print(f\"Reverse of {number} is {reversed_number}\")\n"
      ],
      "metadata": {
        "colab": {
          "base_uri": "https://localhost:8080/"
        },
        "id": "U8peEsrp01BL",
        "outputId": "67c007c3-0276-4db4-e9e5-321f5fc5d37a"
      },
      "execution_count": null,
      "outputs": [
        {
          "output_type": "stream",
          "name": "stdout",
          "text": [
            "Enter a number: 234\n",
            "Reverse of 234 is 432\n"
          ]
        }
      ]
    },
    {
      "cell_type": "markdown",
      "source": [
        "22.\tWrite a Python program to find Factorial of a given number."
      ],
      "metadata": {
        "id": "1XAjlImR1RXy"
      }
    },
    {
      "cell_type": "code",
      "source": [
        "def factorial(number):\n",
        "    result = 1\n",
        "    for i in range(1, number + 1):\n",
        "        result *= i\n",
        "    return result\n",
        "\n",
        "number = int(input(\"Enter a number: \"))\n",
        "if number < 0:\n",
        "    print(\"Factorial is not defined for negative numbers.\")\n",
        "else:\n",
        "    print(f\"Factorial of {number} is {factorial(number)}\")\n"
      ],
      "metadata": {
        "colab": {
          "base_uri": "https://localhost:8080/"
        },
        "id": "DsDHyXtl1Mz3",
        "outputId": "a884b4fa-d202-431a-ce9e-d62f06e752e2"
      },
      "execution_count": null,
      "outputs": [
        {
          "output_type": "stream",
          "name": "stdout",
          "text": [
            "Enter a number: 21\n",
            "Factorial of 21 is 51090942171709440000\n"
          ]
        }
      ]
    },
    {
      "cell_type": "markdown",
      "source": [
        "23.\tWrite a Python program to check a number is palindrome or not."
      ],
      "metadata": {
        "id": "IVVIDlEq2EhO"
      }
    },
    {
      "cell_type": "code",
      "source": [
        "def is_palindrome(number):\n",
        "    str_number = str(number)\n",
        "    return str_number == str_number[::-1]\n",
        "\n",
        "number = int(input(\"Enter a number: \"))\n",
        "if is_palindrome(number):\n",
        "    print(f\"{number} is a palindrome.\")\n",
        "else:\n",
        "    print(f\"{number} is not a palindrome.\")"
      ],
      "metadata": {
        "colab": {
          "base_uri": "https://localhost:8080/"
        },
        "id": "xCpzUqNo1veo",
        "outputId": "8b711993-790f-4a38-92da-ba8daf27745b"
      },
      "execution_count": null,
      "outputs": [
        {
          "output_type": "stream",
          "name": "stdout",
          "text": [
            "Enter a number: 121\n",
            "121 is a palindrome.\n"
          ]
        }
      ]
    },
    {
      "cell_type": "markdown",
      "source": [
        "24.\tWrite a Python program to check a number is prime or not."
      ],
      "metadata": {
        "id": "TtpOneiF4RU7"
      }
    },
    {
      "cell_type": "code",
      "source": [
        "def is_prime(number):\n",
        "    if number <= 1:\n",
        "        return False\n",
        "    if number == 2 or number == 3:\n",
        "        return True\n",
        "    if number % 2 == 0 or number % 3 == 0:\n",
        "        return False\n",
        "\n",
        "    i = 5\n",
        "    while i * i <= number:\n",
        "        if number % i == 0 or number % (i + 2) == 0:\n",
        "            return False\n",
        "        i += 6\n",
        "\n",
        "    return True\n",
        "\n",
        "num = int(input(\"Enter a number: \"))\n",
        "\n",
        "if is_prime(num):\n",
        "    print(f\"{num} is a prime number.\")\n",
        "else:\n",
        "    print(f\"{num} is not a prime number.\")\n"
      ],
      "metadata": {
        "colab": {
          "base_uri": "https://localhost:8080/"
        },
        "id": "LPjx-Sfi4QVE",
        "outputId": "601307e0-a02e-49be-ef16-a71c2002ab72"
      },
      "execution_count": null,
      "outputs": [
        {
          "output_type": "stream",
          "name": "stdout",
          "text": [
            "Enter a number: 23\n",
            "23 is a prime number.\n"
          ]
        }
      ]
    },
    {
      "cell_type": "markdown",
      "source": [
        "25.\tWrite a Python program to check a number is Armstrong or not."
      ],
      "metadata": {
        "id": "Hw8zGhnf4xPz"
      }
    },
    {
      "source": [
        "def is_armstrong(number):\n",
        "    digits = str(number)\n",
        "    num_digits = len(digits)\n",
        "    sum_of_powers = sum(int(digit) ** num_digits for digit in digits)\n",
        "    return sum_of_powers == number\n",
        "\n",
        "num = int(input(\"Enter a number: \"))\n",
        "\n",
        "if is_armstrong(num):\n",
        "    print(f\"{num} is an Armstrong number.\")\n",
        "else:\n",
        "    print(f\"{num} is not an Armstrong number.\")\n"
      ],
      "cell_type": "code",
      "metadata": {
        "colab": {
          "base_uri": "https://localhost:8080/"
        },
        "id": "HeQMWkXm5tnA",
        "outputId": "32560ea6-9da4-4615-ec29-42b0fc1b9560"
      },
      "execution_count": null,
      "outputs": [
        {
          "output_type": "stream",
          "name": "stdout",
          "text": [
            "Enter a number: 123\n",
            "123 is not an Armstrong number.\n"
          ]
        }
      ]
    },
    {
      "cell_type": "markdown",
      "source": [
        "26.\tWrite a Python program to print Fibonacci series of n term"
      ],
      "metadata": {
        "id": "fa_8SkSK69FH"
      }
    },
    {
      "source": [
        "def fibonacci_series(n):\n",
        "    if n <= 0:\n",
        "        return []\n",
        "    elif n == 1:\n",
        "        return [0]\n",
        "    else:\n",
        "        list_fib = [0, 1]\n",
        "        while len(list_fib) < n:\n",
        "            next_fib = list_fib[-1] + list_fib[-2]\n",
        "            list_fib.append(next_fib)\n",
        "        return list_fib\n",
        "\n",
        "n = int(input(\"Enter the number of terms: \"))\n",
        "print(fibonacci_series(n))"
      ],
      "cell_type": "code",
      "metadata": {
        "colab": {
          "base_uri": "https://localhost:8080/"
        },
        "id": "zad-lEwq7F5f",
        "outputId": "b7548c09-4326-4be4-c869-33b2d45ec04c"
      },
      "execution_count": null,
      "outputs": [
        {
          "output_type": "stream",
          "name": "stdout",
          "text": [
            "Enter the number of terms: 23\n",
            "[0, 1, 1, 2, 3, 5, 8, 13, 21, 34, 55, 89, 144, 233, 377, 610, 987, 1597, 2584, 4181, 6765, 10946, 17711]\n"
          ]
        }
      ]
    },
    {
      "cell_type": "markdown",
      "source": [
        "27.\tWrite a Python program to implement multiplication table."
      ],
      "metadata": {
        "id": "5u1OZnsS7Pyq"
      }
    },
    {
      "source": [
        "num = int(input(\"Enter the number for multiplication table: \"))\n",
        "\n",
        "for i in range(1, 11):\n",
        "    print(f\"{num} x {i} = {num * i}\")"
      ],
      "cell_type": "code",
      "metadata": {
        "colab": {
          "base_uri": "https://localhost:8080/"
        },
        "id": "ecsbgUvW7Xjv",
        "outputId": "6579afa8-2a70-43c2-e96b-d159531e69e0"
      },
      "execution_count": null,
      "outputs": [
        {
          "output_type": "stream",
          "name": "stdout",
          "text": [
            "Enter the number for multiplication table: 5\n",
            "5 x 1 = 5\n",
            "5 x 2 = 10\n",
            "5 x 3 = 15\n",
            "5 x 4 = 20\n",
            "5 x 5 = 25\n",
            "5 x 6 = 30\n",
            "5 x 7 = 35\n",
            "5 x 8 = 40\n",
            "5 x 9 = 45\n",
            "5 x 10 = 50\n"
          ]
        }
      ]
    },
    {
      "cell_type": "markdown",
      "source": [
        "28.\tWrite a Python program to take a input from user in a list and print it."
      ],
      "metadata": {
        "id": "4jqn5x017cV6"
      }
    },
    {
      "source": [
        "user_list = []\n",
        "n = int(input(\"Enter the number of elements in the list: \"))\n",
        "for i in range(n):\n",
        "    element = input(f\"Enter element {i + 1}: \")\n",
        "    user_list.append(element)\n",
        "print(\"The list is:\", user_list)"
      ],
      "cell_type": "code",
      "metadata": {
        "id": "znTI8WkR7mNK"
      },
      "execution_count": null,
      "outputs": []
    },
    {
      "cell_type": "markdown",
      "source": [
        "29.\tWrite a Python program to find the average of n numbers using list."
      ],
      "metadata": {
        "id": "D3JaQKVp74Xh"
      }
    },
    {
      "source": [
        "def average_of_list(numbers):\n",
        "    if not numbers:\n",
        "        return 0\n",
        "    return sum(numbers) / len(numbers)\n",
        "\n",
        "n = int(input(\"Enter the number of elements: \"))\n",
        "numbers = []\n",
        "for i in range(n):\n",
        "    number = float(input(f\"Enter number {i+1}: \"))\n",
        "    numbers.append(number)\n",
        "\n",
        "average = average_of_list(numbers)\n",
        "print(\"The average is:\", average)"
      ],
      "cell_type": "code",
      "metadata": {
        "colab": {
          "base_uri": "https://localhost:8080/"
        },
        "id": "hih2QsbH7-9z",
        "outputId": "f21248e8-c50b-445e-9e20-bba8438a981d"
      },
      "execution_count": null,
      "outputs": [
        {
          "output_type": "stream",
          "name": "stdout",
          "text": [
            "Enter the number of elements: 3\n",
            "Enter number 1: 23\n",
            "Enter number 2: 56\n",
            "Enter number 3: 13\n",
            "The average is: 30.666666666666668\n"
          ]
        }
      ]
    },
    {
      "cell_type": "markdown",
      "source": [
        "30.\tWrite a Python program to find the largest element in the list."
      ],
      "metadata": {
        "id": "MC3qm3-r8HBa"
      }
    },
    {
      "source": [
        "def find_largest(numbers):\n",
        "  if not numbers:\n",
        "    return None\n",
        "  largest = numbers[0]\n",
        "  for number in numbers:\n",
        "    if number > largest:\n",
        "      largest = number\n",
        "  return largest\n",
        "\n",
        "numbers = [1, 5, 3, 9, 2]\n",
        "largest_number = find_largest(numbers)\n",
        "print(\"The largest element is:\", largest_number)"
      ],
      "cell_type": "code",
      "metadata": {
        "colab": {
          "base_uri": "https://localhost:8080/"
        },
        "id": "i4qrv93X8QAy",
        "outputId": "de62a5a0-e70e-4f2d-cc8b-71d7d03ffea3"
      },
      "execution_count": null,
      "outputs": [
        {
          "output_type": "stream",
          "name": "stdout",
          "text": [
            "The largest element is: 9\n"
          ]
        }
      ]
    },
    {
      "cell_type": "markdown",
      "source": [
        "31.\tWrite a Python program to perform Linear search."
      ],
      "metadata": {
        "id": "8_J3N73H8Yex"
      }
    },
    {
      "source": [
        "def linear_search(arr, target):\n",
        "    for i in range(len(arr)):\n",
        "        if arr[i] == target:\n",
        "            return i\n",
        "    return -1\n",
        "numbers = [2, 7, 4, 9, 1]\n",
        "target_number = 9\n",
        "index = linear_search(numbers, target_number)\n",
        "if index != -1:\n",
        "    print(f\"Target found at index: {index}\")\n",
        "else:\n",
        "    print(\"Target not found in the list.\")"
      ],
      "cell_type": "code",
      "metadata": {
        "colab": {
          "base_uri": "https://localhost:8080/"
        },
        "id": "p6ktBH9M8tZx",
        "outputId": "b75dab8d-0a1e-4400-c2c6-cbc76ce4e1b8"
      },
      "execution_count": null,
      "outputs": [
        {
          "output_type": "stream",
          "name": "stdout",
          "text": [
            "Target found at index: 3\n"
          ]
        }
      ]
    },
    {
      "cell_type": "markdown",
      "source": [
        "32.\tWrite a program that accepts sequence of lines as input and prints the lines after making all characters in the sentence capitalized.\n",
        "Suppose the following input is supplied to the program:\n",
        "Hello world\n",
        "Practice makes perfect\n",
        "Then, the output should be:\n",
        "HELLO WORLD\n",
        "PRACTICE MAKES PERFECT\n"
      ],
      "metadata": {
        "id": "CL57G7ys8_dB"
      }
    },
    {
      "source": [
        "lines = []\n",
        "print(\"Enter lines of text (Press Enter twice to finish):\")\n",
        "\n",
        "while True:\n",
        "    line = input()\n",
        "    if line:\n",
        "        lines.append(line.upper())\n",
        "    else:\n",
        "        break\n",
        "for line in lines:\n",
        "    print(line)"
      ],
      "cell_type": "code",
      "metadata": {
        "colab": {
          "base_uri": "https://localhost:8080/"
        },
        "id": "WO0etkCt9MGL",
        "outputId": "f61353bf-33b5-44f5-e4a7-aa87e867b029"
      },
      "execution_count": null,
      "outputs": [
        {
          "output_type": "stream",
          "name": "stdout",
          "text": [
            "Enter lines of text (Press Enter twice to finish):\n",
            "hello world practice makes perfect\n",
            "\n",
            "HELLO WORLD PRACTICE MAKES PERFECT\n"
          ]
        }
      ]
    },
    {
      "cell_type": "markdown",
      "source": [
        "33.\tWrite a program which accepts a sequence of comma‐separated numbers from console and generate a list and a tuple which contains every number.\n",
        "Suppose the following input is supplied to the program:\n",
        "34,67,55,33,12,98\n",
        "Then, the output should be:\n",
        "['34', '67', '55', '33', '12', '98']\n",
        "('34', '67', '55', '33', '12', '98')\n"
      ],
      "metadata": {
        "id": "Son7iu47-pfD"
      }
    },
    {
      "cell_type": "code",
      "source": [
        "input_numbers = input(\"Enter comma-separated numbers: \")\n",
        "number_list = input_numbers.split(',')\n",
        "number_tuple = tuple(number_list)\n",
        "print(\"List:\", number_list)\n",
        "print(\"Tuple:\", number_tuple)"
      ],
      "metadata": {
        "colab": {
          "base_uri": "https://localhost:8080/"
        },
        "id": "8ALxAJkq7bp9",
        "outputId": "1e75bf64-a433-4d71-a644-d5fd5e0264eb"
      },
      "execution_count": null,
      "outputs": [
        {
          "output_type": "stream",
          "name": "stdout",
          "text": [
            "Enter comma-separated numbers: 34,67,12,89,24,46\n",
            "List: ['34', '67', '12', '89', '24', '46']\n",
            "Tuple: ('34', '67', '12', '89', '24', '46')\n"
          ]
        }
      ]
    },
    {
      "cell_type": "markdown",
      "source": [
        "34.\tWrite a program that computes the net amount of a bank account based a transaction log from console input. The transaction log format is shown as following:\n",
        "D 100\n",
        "W 200\n",
        "¡\n",
        "D means deposit while W means withdrawal.\n",
        "Suppose the following input is supplied to the program:\n",
        "D 300\n",
        "D 300\n",
        "W 200\n",
        "D 100\n",
        "Then, the output should be:\n",
        "500\n"
      ],
      "metadata": {
        "id": "aYo6_PoB_p_b"
      }
    },
    {
      "cell_type": "code",
      "source": [
        "net_amount = 0\n",
        "print(\"Enter transactions (e.g., 'D 100' for deposit, 'W 200' for withdrawal).\")\n",
        "print(\"Press Enter without input to finish.\")\n",
        "\n",
        "while True:\n",
        "    transaction = input()\n",
        "    if not transaction:\n",
        "        break\n",
        "    transaction_type, amount = transaction.split()\n",
        "    amount = int(amount)\n",
        "\n",
        "    if transaction_type == 'D':\n",
        "        net_amount += amount\n",
        "    elif transaction_type == 'W':\n",
        "        net_amount -= amount\n",
        "print(\"Net amount:\", net_amount)"
      ],
      "metadata": {
        "colab": {
          "base_uri": "https://localhost:8080/"
        },
        "id": "FjjQD8KK_pQw",
        "outputId": "849dfbe6-23f2-42f8-c8c4-4951cd28d306"
      },
      "execution_count": null,
      "outputs": [
        {
          "output_type": "stream",
          "name": "stdout",
          "text": [
            "Enter transactions (e.g., 'D 100' for deposit, 'W 200' for withdrawal).\n",
            "Press Enter without input to finish.\n",
            "D 500\n",
            "W 200\n",
            "D 300\n",
            "W 250\n",
            "\n",
            "Net amount: 350\n"
          ]
        }
      ]
    }
  ]
}